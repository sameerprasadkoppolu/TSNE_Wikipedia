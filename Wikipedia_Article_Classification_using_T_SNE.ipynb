{
  "nbformat": 4,
  "nbformat_minor": 0,
  "metadata": {
    "colab": {
      "provenance": []
    },
    "kernelspec": {
      "name": "python3",
      "display_name": "Python 3"
    },
    "language_info": {
      "name": "python"
    }
  },
  "cells": [
    {
      "cell_type": "code",
      "source": [
        "!pip install wikipedia"
      ],
      "metadata": {
        "colab": {
          "base_uri": "https://localhost:8080/"
        },
        "id": "ND1buv1U-k9G",
        "outputId": "1b7f6c9c-132d-49e9-cc67-2c9dc749223f"
      },
      "execution_count": 2,
      "outputs": [
        {
          "output_type": "stream",
          "name": "stdout",
          "text": [
            "Looking in indexes: https://pypi.org/simple, https://us-python.pkg.dev/colab-wheels/public/simple/\n",
            "Collecting wikipedia\n",
            "  Downloading wikipedia-1.4.0.tar.gz (27 kB)\n",
            "  Preparing metadata (setup.py) ... \u001b[?25l\u001b[?25hdone\n",
            "Requirement already satisfied: beautifulsoup4 in /usr/local/lib/python3.8/dist-packages (from wikipedia) (4.6.3)\n",
            "Requirement already satisfied: requests<3.0.0,>=2.0.0 in /usr/local/lib/python3.8/dist-packages (from wikipedia) (2.25.1)\n",
            "Requirement already satisfied: idna<3,>=2.5 in /usr/local/lib/python3.8/dist-packages (from requests<3.0.0,>=2.0.0->wikipedia) (2.10)\n",
            "Requirement already satisfied: urllib3<1.27,>=1.21.1 in /usr/local/lib/python3.8/dist-packages (from requests<3.0.0,>=2.0.0->wikipedia) (1.24.3)\n",
            "Requirement already satisfied: certifi>=2017.4.17 in /usr/local/lib/python3.8/dist-packages (from requests<3.0.0,>=2.0.0->wikipedia) (2022.12.7)\n",
            "Requirement already satisfied: chardet<5,>=3.0.2 in /usr/local/lib/python3.8/dist-packages (from requests<3.0.0,>=2.0.0->wikipedia) (4.0.0)\n",
            "Building wheels for collected packages: wikipedia\n",
            "  Building wheel for wikipedia (setup.py) ... \u001b[?25l\u001b[?25hdone\n",
            "  Created wheel for wikipedia: filename=wikipedia-1.4.0-py3-none-any.whl size=11695 sha256=88de5545526368706bf46f9821eff9520ac89476458827df44883ad8af14d6a5\n",
            "  Stored in directory: /root/.cache/pip/wheels/07/93/05/72c05349177dca2e0ba31a33ba4f7907606f7ddef303517c6a\n",
            "Successfully built wikipedia\n",
            "Installing collected packages: wikipedia\n",
            "Successfully installed wikipedia-1.4.0\n"
          ]
        }
      ]
    },
    {
      "cell_type": "code",
      "execution_count": 3,
      "metadata": {
        "id": "k0TjnZLp9mKB"
      },
      "outputs": [],
      "source": [
        "#importing the libraries\n",
        "\n",
        "import numpy as np\n",
        "import sklearn\n",
        "from sklearn.feature_extraction.text import TfidfVectorizer\n",
        "from pprint import pprint\n",
        "from sklearn.feature_extraction.text import CountVectorizer\n",
        "from sklearn import preprocessing\n",
        "import pandas as pd\n",
        "import re\n",
        "import numpy as np\n",
        "from nltk.tokenize import  word_tokenize \n",
        "import nltk\n",
        "from sklearn.naive_bayes import MultinomialNB\n",
        "from sklearn import metrics\n",
        "import wikipedia\n",
        "from wikipedia.exceptions import WikipediaException\n"
      ]
    },
    {
      "cell_type": "code",
      "source": [
        "#Topics and Articles\n",
        "# selected topics\n",
        "topics = [\"Association football\", \"Airplane\", \"Machine learning\", \"Financial services\"]\n",
        "\n",
        "# list of articles to be downloaded\n",
        "articles = [\"FIFA World Cup\", \"CONMEBOL–UEFA Cup of Champions\", \"2020 Summer Olympics\", \"The Death Match\", \"Messi–Ronaldo rivalry\", \"Major League Soccer\", \"Inter Miami\", \"Bengaluru FC\", \"Kuwait\", \"List of women's footballers with 100 or more international caps\", \"Episkyros\", \n",
        "            \"Wright Brothers Day\", \"Airbus A380\", \"Air France Flight 4590\", \"Lift-to-drag ratio\", \"Federal Aviation Administration\", \"Jet fuel\", \"American Airlines\", \"Airport\", \"de Havilland Comet\", \n",
        "           \"Data stream mining\", \"Leo Breiman\", \"Sam Altman\", \"Tesla, Inc.\", \"Natural Language Processing\", \"Deep Learning\",\n",
        "           \"IBM Watson Studio\", \"MathWorks\", \"Overfitting\", \"Netflix\", \"Decision tree learning\", \"pandas (software)\", \n",
        "           \"Credit card\", \"List of investment banks\", \"Foreign exchange market\", \"International Monetary Fund\", \"Jamaica Accords\", \"The Wall Street Journal\", \n",
        "           \"United States dollar\"]\n",
        "\n",
        "# download and store articles (summaries) in this variable\n",
        "data = []\n",
        "for article in articles:\n",
        "    try:\n",
        "        data.append(wikipedia.summary(article))\n",
        "    except WikipediaException:\n",
        "        continue"
      ],
      "metadata": {
        "id": "HLs3amzI-rB4"
      },
      "execution_count": 4,
      "outputs": []
    },
    {
      "cell_type": "markdown",
      "source": [
        "\n",
        "*   Articles with index 0 to 10 are in the Association football topic.\n",
        "*   Articles with index 11 to 19 are in the Airplane topic.\n",
        "*   Articles with index 20 to 31 are in the Machine Learning Topic\n",
        "*   Articles with index 32 to 38 are in the Financial Services Topic\n",
        "\n",
        "\n",
        "\n"
      ],
      "metadata": {
        "id": "Ket9uY1NA4Fy"
      }
    },
    {
      "cell_type": "code",
      "source": [
        "#Text Preprocessing\n",
        "import re\n",
        "import nltk\n",
        "import string\n",
        "nltk.download('punkt')\n",
        "nltk.download('stopwords')\n",
        "nltk.download('wordnet')\n",
        "nltk.download('omw-1.4')\n",
        "from nltk.stem import WordNetLemmatizer\n",
        "from nltk.corpus import stopwords\n",
        "\n",
        "def clean_message(message):\n",
        "    message = re.sub(r\"\\S*https?://\\S+\", \"\", message) #Remove URLs\n",
        "    message = re.sub(r\"[^\\w\\s]\", \"\", message) #Remove punctuation marks\n",
        "    message = message.lower() #Convert to lowercase\n",
        "    \n",
        "    #Tokenize text and remove stop words\n",
        "    token_lowercase = word_tokenize(message)\n",
        "    stop_words = stopwords.words('english')\n",
        "    token_final=[]\n",
        "    for i in token_lowercase:\n",
        "        if i in stop_words:\n",
        "            continue\n",
        "        token_final.append(i)\n",
        "    \n",
        "    #Lemmatization\n",
        "    message_cleaned = []\n",
        "    for i in token_final:\n",
        "        temp = WordNetLemmatizer().lemmatize(i)\n",
        "        message_cleaned.append(temp)\n",
        "    \n",
        "    message_cleaned = \" \".join(message_cleaned)\n",
        "        \n",
        "    return message_cleaned"
      ],
      "metadata": {
        "colab": {
          "base_uri": "https://localhost:8080/"
        },
        "id": "UKKOlxUK-8zg",
        "outputId": "b1c528d3-4fe2-45ea-acb6-d4980f485005"
      },
      "execution_count": 5,
      "outputs": [
        {
          "output_type": "stream",
          "name": "stderr",
          "text": [
            "[nltk_data] Downloading package punkt to /root/nltk_data...\n",
            "[nltk_data]   Unzipping tokenizers/punkt.zip.\n",
            "[nltk_data] Downloading package stopwords to /root/nltk_data...\n",
            "[nltk_data]   Unzipping corpora/stopwords.zip.\n",
            "[nltk_data] Downloading package wordnet to /root/nltk_data...\n",
            "[nltk_data] Downloading package omw-1.4 to /root/nltk_data...\n"
          ]
        }
      ]
    },
    {
      "cell_type": "code",
      "source": [
        "#Cleaned Wikipedia Data\n",
        "cleaned_data = []\n",
        "\n",
        "for i in data:\n",
        "    cleaned_data.append(clean_message(i))"
      ],
      "metadata": {
        "id": "-hU2KhK-_fnh"
      },
      "execution_count": 6,
      "outputs": []
    },
    {
      "cell_type": "code",
      "source": [
        "#Perform TF-IDF Vectorization\n",
        "from sklearn.feature_extraction.text import TfidfVectorizer\n",
        "vectorizer = TfidfVectorizer(analyzer='word',stop_words= 'english')\n",
        "X = vectorizer.fit_transform(cleaned_data)"
      ],
      "metadata": {
        "id": "AoMVEEyM_iXh"
      },
      "execution_count": 9,
      "outputs": []
    },
    {
      "cell_type": "code",
      "source": [
        "#Implement T-SNE\n",
        "from sklearn.manifold import TSNE\n",
        "\n",
        "# call TSNE() to fit the data\n",
        "X_tsne = TSNE(perplexity = 6, learning_rate = 'auto', init = \"random\").fit_transform(X)"
      ],
      "metadata": {
        "id": "8Si3DyhK_0Qc"
      },
      "execution_count": 11,
      "outputs": []
    },
    {
      "cell_type": "code",
      "source": [
        "#Plot and Annotate the points\n",
        "import matplotlib.pyplot as plt\n",
        "\n",
        "x_axis = []\n",
        "y_axis = []\n",
        "\n",
        "for i in X_tsne:\n",
        "    x_axis.append(i[0])\n",
        "    y_axis.append(i[1])\n",
        "\n",
        "df_tsne = pd.DataFrame()\n",
        "df_tsne[\"x\"] = x_axis\n",
        "df_tsne[\"y\"] = y_axis\n",
        "\n",
        "\n",
        "# get a figure handle\n",
        "fig,ax = plt.subplots(figsize=(10,8))\n",
        "\n",
        "for i in range(0, 11): #These are the articles related to the topic 'Association football'\n",
        "    plt.plot(df_tsne[\"x\"][i],df_tsne[\"y\"][i], marker = '*', color = 'green')\n",
        "    plt.text(df_tsne[\"x\"][i]+.05, df_tsne[\"y\"][i]+.05, i, fontsize=10)\n",
        "\n",
        "for i in range(11, 20): #These are the articles related to the topic 'Airplane'\n",
        "    plt.plot(df_tsne[\"x\"][i],df_tsne[\"y\"][i], marker = 'h', color = 'orange')\n",
        "    plt.text(df_tsne[\"x\"][i]+.05, df_tsne[\"y\"][i]+.05, i, fontsize=10)\n",
        "\n",
        "for i in range(20, 32): #These are the articles related to the topic 'Machine Learning'\n",
        "    plt.plot(df_tsne[\"x\"][i],df_tsne[\"y\"][i], marker = 'o', color = 'blue')\n",
        "    plt.text(df_tsne[\"x\"][i]+.05, df_tsne[\"y\"][i]+.05, i, fontsize=10)\n",
        "\n",
        "for i in range(32, 39): #These are the articles related to the topic 'Financial services'\n",
        "    plt.plot(df_tsne[\"x\"][i],df_tsne[\"y\"][i], marker = 'p', color = 'black')\n",
        "    plt.text(df_tsne[\"x\"][i]+.05, df_tsne[\"y\"][i]+.05, i, fontsize=10)\n"
      ],
      "metadata": {
        "colab": {
          "base_uri": "https://localhost:8080/",
          "height": 483
        },
        "id": "RtEabpFT__Ib",
        "outputId": "e579f705-c8f3-4542-99df-630349c0895a"
      },
      "execution_count": 12,
      "outputs": [
        {
          "output_type": "display_data",
          "data": {
            "text/plain": [
              "<Figure size 720x576 with 1 Axes>"
            ],
            "image/png": "[encoded data removed]"
          },
          "metadata": {
            "needs_background": "light"
          }
        }
      ]
    },
    {
      "cell_type": "markdown",
      "source": [
        "Each Cluster represents a Specific Topic and most of the articles are clustered with their appropriate topic."
      ],
      "metadata": {
        "id": "aZNpitNAAKWo"
      }
    }
  ]
}